{
 "cells": [
  {
   "cell_type": "markdown",
   "metadata": {},
   "source": [
    "## Python - Assignment 2 "
   ]
  },
  {
   "cell_type": "markdown",
   "metadata": {},
   "source": [
    "_**TODO: Print the Total no of IT employees and Non IT employees for the companies provided in the list **_"
   ]
  },
  {
   "cell_type": "code",
   "execution_count": 2,
   "metadata": {
    "collapsed": true
   },
   "outputs": [],
   "source": [
    "\n",
    "Employee_count = {'Infosys': 75000, 'TCS': 175000, 'RBS': 50000, 'CTS': 150000, 'HDFC': 25000, 'Times': 10000, 'Wipro': 125000}\n",
    "IT_Companies = ['DTCC', 'CTS', 'Accenture', 'TCS', 'HCL', 'Wipro']\n",
    "\n",
    "# Your solution has to be so robust that it should work if we are changing the dictionary  "
   ]
  },
  {
   "cell_type": "code",
   "execution_count": null,
   "metadata": {
    "collapsed": true
   },
   "outputs": [],
   "source": []
  },
  {
   "cell_type": "markdown",
   "metadata": {},
   "source": [
    "_**TODO: Nearest Square **_\n",
    "\n",
    "_** Write a Control statement that finds the largest square number less than an integer limit and stores it in a variable nearestsquare **_\n"
   ]
  },
  {
   "cell_type": "code",
   "execution_count": 3,
   "metadata": {
    "collapsed": true
   },
   "outputs": [],
   "source": [
    "# For example, if limit is 40, your code should set the nearest_square to 36\n",
    "\n"
   ]
  },
  {
   "cell_type": "code",
   "execution_count": null,
   "metadata": {
    "collapsed": true
   },
   "outputs": [],
   "source": []
  },
  {
   "cell_type": "markdown",
   "metadata": {},
   "source": [
    "_**TODO: Write a loop with a break statement to create a string, Consolidated News, that is exactly 140 characters long. You should create the new string by adding headlines from the headlines list, inserting a space in between each headline. If necessary, truncate the last headline in the middle so that the new news string is exactly 140 characters long**_ "
   ]
  },
  {
   "cell_type": "code",
   "execution_count": 5,
   "metadata": {
    "collapsed": true
   },
   "outputs": [],
   "source": [
    "\n",
    "headlines = [\"India beats Australia by 3 wkts\",\n",
    "             \"Heavy rains expected in TN\",\n",
    "             \"Petrol prices hit lifetime high rates at 97.5 rps/litre\",\n",
    "             \"75% increase in demand for the Data Scientists\",\n",
    "             \"Kerala once again high alert over Floods\",\n",
    "             \"With 95%, TN records the highest voting % till date in the country\"]"
   ]
  },
  {
   "cell_type": "code",
   "execution_count": null,
   "metadata": {
    "collapsed": true
   },
   "outputs": [],
   "source": []
  },
  {
   "cell_type": "markdown",
   "metadata": {},
   "source": [
    "_**TODO: Create the following output with out loops **_\n",
    "\n",
    "_ Feel free to Surf the internet wherever required _"
   ]
  },
  {
   "cell_type": "code",
   "execution_count": 7,
   "metadata": {},
   "outputs": [],
   "source": [
    "Technology = [\"Seleninum\", \"AWS\", \"Java\", \"Data Science\", \"Machine Learning\"]\n",
    "Candidates_Count = [60, 25, 15, 30, 20]\n",
    "\n",
    "# Expected Output\n",
    "# {'Seleninum': 60, 'AWS': 25, 'Java': 15, 'Data Science': 30, 'Machine Learning': 20} # Same Order is not necessary"
   ]
  },
  {
   "cell_type": "code",
   "execution_count": null,
   "metadata": {
    "collapsed": true
   },
   "outputs": [],
   "source": []
  }
 ],
 "metadata": {
  "kernelspec": {
   "display_name": "Python 3",
   "language": "python",
   "name": "python3"
  },
  "language_info": {
   "codemirror_mode": {
    "name": "ipython",
    "version": 3
   },
   "file_extension": ".py",
   "mimetype": "text/x-python",
   "name": "python",
   "nbconvert_exporter": "python",
   "pygments_lexer": "ipython3",
   "version": "3.6.3"
  }
 },
 "nbformat": 4,
 "nbformat_minor": 2
}
