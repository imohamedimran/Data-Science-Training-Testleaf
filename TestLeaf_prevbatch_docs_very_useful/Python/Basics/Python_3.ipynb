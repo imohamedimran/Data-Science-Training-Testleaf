{
 "cells": [
  {
   "cell_type": "markdown",
   "metadata": {},
   "source": [
    "\n",
    "### List Comprehensions\n",
    "\n",
    "\n"
   ]
  },
  {
   "cell_type": "code",
   "execution_count": 4,
   "metadata": {
    "collapsed": true
   },
   "outputs": [],
   "source": [
    "# Normal way of writing\n",
    "\n",
    "cities=['Delhi','Mumbai','Chennai','Kolkata','Bangalore']\n",
    "\n",
    "capitalized_cities = []\n",
    "for city in cities:\n",
    "    capitalized_cities.append(city.title())"
   ]
  },
  {
   "cell_type": "code",
   "execution_count": 3,
   "metadata": {},
   "outputs": [
    {
     "data": {
      "text/plain": [
       "['Delhi', 'Mumbai', 'Chennai', 'Kolkata', 'Bangalore']"
      ]
     },
     "execution_count": 3,
     "metadata": {},
     "output_type": "execute_result"
    }
   ],
   "source": [
    "capitalized_cities"
   ]
  },
  {
   "cell_type": "code",
   "execution_count": 5,
   "metadata": {
    "collapsed": true
   },
   "outputs": [],
   "source": [
    "#Using List Comprehensions\n",
    "\n",
    "capitalized_cities = [city.title() for city in cities]"
   ]
  },
  {
   "cell_type": "markdown",
   "metadata": {},
   "source": [
    "\n",
    "### Conditionals in List Comprehensions\n",
    "\n",
    "\n"
   ]
  },
  {
   "cell_type": "code",
   "execution_count": 8,
   "metadata": {},
   "outputs": [
    {
     "data": {
      "text/plain": [
       "[0, 4, 16, 36, 64]"
      ]
     },
     "execution_count": 8,
     "metadata": {},
     "output_type": "execute_result"
    }
   ],
   "source": [
    "squares = [x**2 for x in range(9) if x % 2 == 0]\n",
    "\n",
    "squares"
   ]
  },
  {
   "cell_type": "code",
   "execution_count": null,
   "metadata": {
    "collapsed": true
   },
   "outputs": [],
   "source": [
    "# Was this expected\n",
    "squares = [x**2 for x in range(9) if x % 2 == 0 else x + 3]\n"
   ]
  },
  {
   "cell_type": "code",
   "execution_count": 9,
   "metadata": {},
   "outputs": [
    {
     "data": {
      "text/plain": [
       "[0, 4, 4, 6, 16, 8, 36, 10, 64]"
      ]
     },
     "execution_count": 9,
     "metadata": {},
     "output_type": "execute_result"
    }
   ],
   "source": [
    "squares = [x**2 if x % 2 == 0 else x + 3 for x in range(9)]\n",
    "squares"
   ]
  },
  {
   "cell_type": "markdown",
   "metadata": {},
   "source": [
    "\n",
    "# Functions\n",
    "\n",
    "\n"
   ]
  },
  {
   "cell_type": "code",
   "execution_count": 42,
   "metadata": {
    "collapsed": true
   },
   "outputs": [],
   "source": [
    "# Defining Functions\n",
    "def interest_credited(balance):\n",
    "    interest = 0.1\n",
    "    a=balance\n",
    "    balance+=balance*interest\n",
    "    return a, balance\n",
    "#print('The interest credited is : {} and your current total balance is {}'. format(interest,balance))"
   ]
  },
  {
   "cell_type": "code",
   "execution_count": 44,
   "metadata": {
    "collapsed": true
   },
   "outputs": [],
   "source": [
    "interest_credited(5000)"
   ]
  },
  {
   "cell_type": "code",
   "execution_count": 39,
   "metadata": {},
   "outputs": [
    {
     "name": "stdout",
     "output_type": "stream",
     "text": [
      "The interest credited is : 220.0 and your current total balance is 2200.0\n"
     ]
    }
   ],
   "source": [
    "a=interest_credited(2000)\n",
    "print('The interest credited is : {0} and your current total balance is {1}'. format(a[0],a[1]))"
   ]
  },
  {
   "cell_type": "code",
   "execution_count": 40,
   "metadata": {},
   "outputs": [
    {
     "data": {
      "text/plain": [
       "(220.0, 2200.0)"
      ]
     },
     "execution_count": 40,
     "metadata": {},
     "output_type": "execute_result"
    }
   ],
   "source": [
    "# function call\n",
    "interest_credited(2000)"
   ]
  },
  {
   "cell_type": "markdown",
   "metadata": {},
   "source": [
    "\n",
    "## Print vs Return in Functions\n",
    "\n",
    "\n"
   ]
  },
  {
   "cell_type": "markdown",
   "metadata": {},
   "source": [
    "\n",
    "# Return\n",
    "\n"
   ]
  },
  {
   "cell_type": "code",
   "execution_count": 108,
   "metadata": {
    "collapsed": true
   },
   "outputs": [],
   "source": [
    "# Defining Functions\n",
    "def experience(exp):\n",
    "    \n",
    "    if exp < 3:\n",
    "        return('Employee is in junior level')\n",
    "        \n",
    "    elif exp < 6:\n",
    "        return('Employee is in Senior Role')\n",
    "    \n",
    "    elif exp < 9:\n",
    "        return('Employee is in Lead Role')\n",
    "    \n",
    "    else:\n",
    "        return('Employee is in Architect Role')\n"
   ]
  },
  {
   "cell_type": "markdown",
   "metadata": {},
   "source": [
    "\n",
    "# Print\n",
    "\n"
   ]
  },
  {
   "cell_type": "code",
   "execution_count": 116,
   "metadata": {
    "collapsed": true
   },
   "outputs": [],
   "source": [
    "# Defining Functions\n",
    "def experience(exp):\n",
    "    \n",
    "    if exp<3:\n",
    "        print('Employee is in junior level')\n",
    "        \n",
    "    elif exp < 6:\n",
    "        print('Employee is in Senior Role')\n",
    "    \n",
    "    elif exp < 9:\n",
    "        print('Employee is in Lead Role')\n",
    "    \n",
    "    else:\n",
    "        print('Employee is in Architect Role')\n"
   ]
  },
  {
   "cell_type": "markdown",
   "metadata": {},
   "source": [
    "\n",
    "### Print vs Return in Functions\n",
    "\n",
    "\n"
   ]
  },
  {
   "cell_type": "code",
   "execution_count": 11,
   "metadata": {},
   "outputs": [
    {
     "data": {
      "text/plain": [
       "282.7431"
      ]
     },
     "execution_count": 11,
     "metadata": {},
     "output_type": "execute_result"
    }
   ],
   "source": [
    "# function call\n",
    "cylinder_volume(10, 3)"
   ]
  },
  {
   "cell_type": "code",
   "execution_count": 13,
   "metadata": {},
   "outputs": [
    {
     "name": "stdout",
     "output_type": "stream",
     "text": [
      "Calling show_plus_ten...\n",
      "15\n",
      "Done calling\n",
      "This function returned: None\n",
      "\n",
      "Calling add_ten...\n",
      "Done calling\n",
      "This function returned: 15\n"
     ]
    }
   ],
   "source": [
    "# this prints something, but does not return anything\n",
    "def show_plus_ten(num):\n",
    "    print(num + 10)\n",
    "\n",
    "# this returns something\n",
    "def add_ten(num):\n",
    "    return(num + 10)\n",
    "\n",
    "print('Calling show_plus_ten...')\n",
    "return_value_1 = show_plus_ten(5)\n",
    "print('Done calling')\n",
    "print('This function returned: {}'.format(return_value_1))\n",
    "\n",
    "print('\\nCalling add_ten...')\n",
    "return_value_2 = add_ten(5)\n",
    "print('Done calling')\n",
    "print('This function returned: {}'.format(return_value_2))"
   ]
  },
  {
   "cell_type": "markdown",
   "metadata": {},
   "source": [
    "## Lambda Expressions\n",
    "\n",
    "_Anonymous Functions_"
   ]
  },
  {
   "cell_type": "code",
   "execution_count": 52,
   "metadata": {},
   "outputs": [
    {
     "data": {
      "text/plain": [
       "<function __main__.<lambda>>"
      ]
     },
     "execution_count": 52,
     "metadata": {},
     "output_type": "execute_result"
    }
   ],
   "source": [
    "lambda x,y: x*y"
   ]
  },
  {
   "cell_type": "code",
   "execution_count": 53,
   "metadata": {
    "collapsed": true
   },
   "outputs": [],
   "source": [
    "from functools import reduce"
   ]
  },
  {
   "cell_type": "code",
   "execution_count": 86,
   "metadata": {},
   "outputs": [
    {
     "name": "stdout",
     "output_type": "stream",
     "text": [
      "[16, 25, 36]\n",
      "[4]\n",
      "26\n"
     ]
    }
   ],
   "source": [
    "list_1=list(map(lambda x:x**2,[4,5,6]))\n",
    "\n",
    "list_2=list(filter(lambda x:x<5,[4,5,6]))\n",
    "\n",
    "list_3=reduce(lambda x,y:x+y,[4,5,6,11])\n",
    "\n",
    "print(list_1)\n",
    "print(list_2)\n",
    "print(list_3)"
   ]
  },
  {
   "cell_type": "code",
   "execution_count": 125,
   "metadata": {},
   "outputs": [
    {
     "data": {
      "text/plain": [
       "<map at 0x7a2f8c6278>"
      ]
     },
     "execution_count": 125,
     "metadata": {},
     "output_type": "execute_result"
    }
   ],
   "source": [
    "map(lambda x:x**2,[1,2,3])"
   ]
  },
  {
   "cell_type": "code",
   "execution_count": 88,
   "metadata": {},
   "outputs": [
    {
     "name": "stdout",
     "output_type": "stream",
     "text": [
      "<class 'list'>\n",
      "<class 'list'>\n",
      "<class 'int'>\n"
     ]
    }
   ],
   "source": [
    "print(type(list_1))\n",
    "print(type(list_2))\n",
    "print(type(list_3))"
   ]
  },
  {
   "cell_type": "code",
   "execution_count": 58,
   "metadata": {
    "collapsed": true
   },
   "outputs": [],
   "source": [
    "#a=reduce(multiply,[4,5,6])"
   ]
  }
 ],
 "metadata": {
  "anaconda-cloud": {},
  "kernelspec": {
   "display_name": "Python 3",
   "language": "python",
   "name": "python3"
  },
  "language_info": {
   "codemirror_mode": {
    "name": "ipython",
    "version": 3
   },
   "file_extension": ".py",
   "mimetype": "text/x-python",
   "name": "python",
   "nbconvert_exporter": "python",
   "pygments_lexer": "ipython3",
   "version": "3.6.3"
  }
 },
 "nbformat": 4,
 "nbformat_minor": 1
}
