{
 "cells": [
  {
   "cell_type": "markdown",
   "metadata": {},
   "source": [
    "__Types of python to run__\n",
    "\n",
    "1. Immediate mode - cmd- python\n",
    "2. Script mode - python file.py\n",
    "3. IDE - Integrated Developement environment- spyder, pycharm, jupyter notebook"
   ]
  },
  {
   "cell_type": "code",
   "execution_count": 8,
   "metadata": {},
   "outputs": [
    {
     "data": {
      "text/plain": [
       "' Multiple line comment '"
      ]
     },
     "execution_count": 8,
     "metadata": {},
     "output_type": "execute_result"
    }
   ],
   "source": [
    "#single line Comment\n",
    "\n",
    "\"\"\" Multiple line comment \"\"\"\n",
    "#print(\"Hi\")\n"
   ]
  },
  {
   "cell_type": "code",
   "execution_count": 11,
   "metadata": {},
   "outputs": [
    {
     "ename": "SyntaxError",
     "evalue": "invalid syntax (<ipython-input-11-add8f96670bc>, line 19)",
     "output_type": "error",
     "traceback": [
      "\u001b[0;36m  File \u001b[0;32m\"<ipython-input-11-add8f96670bc>\"\u001b[0;36m, line \u001b[0;32m19\u001b[0m\n\u001b[0;31m    a$ = 7\u001b[0m\n\u001b[0m     ^\u001b[0m\n\u001b[0;31mSyntaxError\u001b[0m\u001b[0;31m:\u001b[0m invalid syntax\n"
     ]
    }
   ],
   "source": [
    "#Keywords\n",
    "\n",
    "#break = 2\n",
    "\n",
    "#Identifiers\n",
    "\n",
    "#Identifier is a name given to entities like class, functions, variables\n",
    "a = 4\n",
    "\n",
    "a1 = 34\n",
    "\n",
    "# 1. can be in alphabet with range of a to z\n",
    "# 2. can be in range of A to Z\n",
    "# 3. should not start with digits\n",
    "# 4. should not be keywords\n",
    "# 5. cannot use special symbols !,@,#,$,%\n",
    "#global = 5 \n",
    "\n",
    "#a$ = 7"
   ]
  },
  {
   "cell_type": "code",
   "execution_count": 2,
   "metadata": {},
   "outputs": [
    {
     "name": "stdout",
     "output_type": "stream",
     "text": [
      "23\n",
      "30\n",
      "54 43 42\n",
      "2 4.2 Hello\n",
      "same data same data same data\n"
     ]
    }
   ],
   "source": [
    "#Statements\n",
    "\n",
    "a = 1 #assigngment statement\n",
    "\n",
    "\n",
    "#Multiple Statement\n",
    "a = 1 + 2 +3 + 4 + \\\n",
    "    2 + 4 +\\\n",
    "    3 + 4\n",
    "    \n",
    "print(a)\n",
    "\n",
    "a = (2 + 5 + 3 + 3 +\n",
    "     2 + 5 + 6\n",
    "     + 4)\n",
    "print(a)\n",
    "\n",
    "\n",
    "#Multiple Assigngment statement\n",
    "a = 54; b = 43; c = 42;\n",
    "\n",
    "print(a,b,c)\n",
    "\n",
    "a, b, c = 2,4.2,\"Hello\"\n",
    "\n",
    "print(a,b,c)\n",
    "\n",
    "a =b = c= \"same data\"\n",
    "\n",
    "print(a,b,c)\n",
    "\n"
   ]
  },
  {
   "cell_type": "markdown",
   "metadata": {},
   "source": [
    "## Operators\n",
    "\n",
    "__Arithmetic Operators__"
   ]
  },
  {
   "cell_type": "code",
   "execution_count": 2,
   "metadata": {
    "collapsed": true
   },
   "outputs": [],
   "source": [
    "# + Addition\n",
    "# - Subtraction\n",
    "# * Multiplication\n",
    "# / Division\n",
    "# % Mod (the remainder after dividing)\n",
    "# ** Exponentiation (note that ^ does not do this operation, as you might have seen in other languages)\n",
    "# // Divides and rounds down to the nearest intege \n",
    "\n"
   ]
  },
  {
   "cell_type": "code",
   "execution_count": 6,
   "metadata": {
    "collapsed": true
   },
   "outputs": [],
   "source": [
    "#print(2+1*2/2)\n"
   ]
  },
  {
   "cell_type": "markdown",
   "metadata": {},
   "source": [
    "__Variables and Assignment Operators__"
   ]
  },
  {
   "cell_type": "code",
   "execution_count": 7,
   "metadata": {},
   "outputs": [
    {
     "data": {
      "text/plain": [
       "74728"
      ]
     },
     "execution_count": 7,
     "metadata": {},
     "output_type": "execute_result"
    }
   ],
   "source": [
    "mv_population = 74728\n",
    "mv_population"
   ]
  },
  {
   "cell_type": "code",
   "execution_count": 10,
   "metadata": {
    "collapsed": true
   },
   "outputs": [],
   "source": [
    "x = 3\n",
    "y = 4\n",
    "z = 5\n",
    "\n",
    "#x, y, z = 3, 4, 5"
   ]
  },
  {
   "cell_type": "code",
   "execution_count": 11,
   "metadata": {
    "collapsed": true
   },
   "outputs": [],
   "source": [
    "\n",
    "#1. Only use ordinary letters, numbers and underscores in your variable names. \n",
    "#They can’t have spaces, and need to start with a letter or underscore.\n",
    "\n",
    "#2. You can’t use reserved words or built-in identifiers\n",
    "\n",
    "#3.The pythonic way to name variables is to use all lowercase letters and underscores to separate words."
   ]
  },
  {
   "cell_type": "code",
   "execution_count": 18,
   "metadata": {},
   "outputs": [
    {
     "data": {
      "text/plain": [
       "74733"
      ]
     },
     "execution_count": 18,
     "metadata": {},
     "output_type": "execute_result"
    }
   ],
   "source": [
    "#Alternative Assignment method\n",
    "mv_population+=1\n",
    "mv_population"
   ]
  },
  {
   "cell_type": "markdown",
   "metadata": {},
   "source": [
    "# Data Types\n",
    "__Integers and Floats__\n",
    "\n",
    "_There are two Python data types that could be used for numeric values:_\n",
    "\n",
    "_int - for integer values_                                              \n",
    "_float - for decimal or floating point values_"
   ]
  },
  {
   "cell_type": "code",
   "execution_count": 21,
   "metadata": {
    "collapsed": true
   },
   "outputs": [],
   "source": [
    "a=100 #int data type\n",
    "b=101.5 #Float data type"
   ]
  },
  {
   "cell_type": "markdown",
   "metadata": {},
   "source": [
    "__Booleans__\n",
    "\n",
    "\n",
    "_True_                                              \n",
    "_False_"
   ]
  },
  {
   "cell_type": "code",
   "execution_count": 22,
   "metadata": {},
   "outputs": [
    {
     "data": {
      "text/plain": [
       "False"
      ]
     },
     "execution_count": 22,
     "metadata": {},
     "output_type": "execute_result"
    }
   ],
   "source": [
    "5 < 3"
   ]
  },
  {
   "cell_type": "markdown",
   "metadata": {},
   "source": [
    "__Booleans, Comparison Operators, and Logical Operators__\n",
    "\n",
    "_There are 6 comparison operators that are common to see in order to obtain a bool value_\n",
    "\n",
    "_3 logical operators you need to be familiar with:_\n",
    "\n",
    "_True_                                              \n",
    "_False_"
   ]
  },
  {
   "cell_type": "code",
   "execution_count": 24,
   "metadata": {},
   "outputs": [
    {
     "name": "stdout",
     "output_type": "stream",
     "text": [
      "True\n",
      "False\n"
     ]
    }
   ],
   "source": [
    "print(5 < 3 or 5 == 5)\n",
    "print(5 < 3 and 5 == 5)\n"
   ]
  },
  {
   "cell_type": "markdown",
   "metadata": {},
   "source": [
    "## __Strings__\n",
    "\n",
    "\n"
   ]
  },
  {
   "cell_type": "code",
   "execution_count": 25,
   "metadata": {},
   "outputs": [
    {
     "data": {
      "text/plain": [
       "'this is a string!'"
      ]
     },
     "execution_count": 25,
     "metadata": {},
     "output_type": "execute_result"
    }
   ],
   "source": [
    "my_string = 'this is a string!'\n",
    "my_string"
   ]
  },
  {
   "cell_type": "code",
   "execution_count": 30,
   "metadata": {},
   "outputs": [
    {
     "data": {
      "text/plain": [
       "\"this is a string's!\""
      ]
     },
     "execution_count": 30,
     "metadata": {},
     "output_type": "execute_result"
    }
   ],
   "source": [
    "my_string1 = 'this is a string\\'s!'\n",
    "my_string1"
   ]
  },
  {
   "cell_type": "code",
   "execution_count": 44,
   "metadata": {},
   "outputs": [
    {
     "name": "stdout",
     "output_type": "stream",
     "text": [
      "Hi, How are you?\n",
      "Hello, how are you?\n",
      "o\n"
     ]
    }
   ],
   "source": [
    "#String\n",
    "\n",
    "#String is a immutable\n",
    "\n",
    "s = \"Hi, How are you?\"\n",
    "print (s)\n",
    "\n",
    "s = \"Hello, how are you?\"\n",
    "print (s)\n",
    "\n",
    "print (s[4])\n",
    "\n",
    "#s[4] = \"s\"  # Immutable"
   ]
  },
  {
   "cell_type": "code",
   "execution_count": 26,
   "metadata": {},
   "outputs": [
    {
     "name": "stdout",
     "output_type": "stream",
     "text": [
      "HelloThere\n"
     ]
    }
   ],
   "source": [
    "first_word = 'Hello'\n",
    "second_word = 'There'\n",
    "print(first_word + second_word)\n"
   ]
  },
  {
   "cell_type": "code",
   "execution_count": 28,
   "metadata": {},
   "outputs": [
    {
     "data": {
      "text/plain": [
       "'H'"
      ]
     },
     "execution_count": 28,
     "metadata": {},
     "output_type": "execute_result"
    }
   ],
   "source": [
    "first_word[0] # Indexing can be done in String"
   ]
  },
  {
   "cell_type": "code",
   "execution_count": 31,
   "metadata": {},
   "outputs": [
    {
     "data": {
      "text/plain": [
       "19"
      ]
     },
     "execution_count": 31,
     "metadata": {},
     "output_type": "execute_result"
    }
   ],
   "source": [
    "#The len() function\n",
    "len(my_string)"
   ]
  },
  {
   "cell_type": "markdown",
   "metadata": {},
   "source": [
    "### __String Methods__\n",
    "\n",
    "_Methods actually are functions that are called using dot notation. For example, lower() is a string method that can be used like this, on a string called \"sample string\": sample_string.lower()_\n"
   ]
  },
  {
   "cell_type": "code",
   "execution_count": 36,
   "metadata": {},
   "outputs": [
    {
     "name": "stdout",
     "output_type": "stream",
     "text": [
      "True\n",
      "1\n"
     ]
    }
   ],
   "source": [
    "print(my_string.islower())\n",
    "\n",
    "print(my_string.count('a'))\n",
    "\n"
   ]
  },
  {
   "cell_type": "code",
   "execution_count": 38,
   "metadata": {},
   "outputs": [
    {
     "name": "stdout",
     "output_type": "stream",
     "text": [
      "Earth has 9 planets\n",
      "Does your dog bite?\n"
     ]
    }
   ],
   "source": [
    "#One important string method: format()\n",
    "\n",
    "# Example 1\n",
    "print(\"Earth has {} planets\".format(9))\n",
    "\n",
    "# Example 2\n",
    "animal = \"dog\"\n",
    "action = \"bite\"\n",
    "print(\"Does your {} {}?\".format(animal, action))\n",
    "\n"
   ]
  },
  {
   "cell_type": "code",
   "execution_count": 40,
   "metadata": {},
   "outputs": [
    {
     "data": {
      "text/plain": [
       "['The', 'man', 'stepped', 'over', 'the', 'moon.']"
      ]
     },
     "execution_count": 40,
     "metadata": {},
     "output_type": "execute_result"
    }
   ],
   "source": [
    "#Another important string method: split()\n",
    "#A basic split method:\n",
    "new_str = \"The man stepped over the moon.\"\n",
    "new_str.split()"
   ]
  },
  {
   "cell_type": "code",
   "execution_count": 41,
   "metadata": {},
   "outputs": [
    {
     "data": {
      "text/plain": [
       "['The', 'man', 'stepped', 'over the moon.']"
      ]
     },
     "execution_count": 41,
     "metadata": {},
     "output_type": "execute_result"
    }
   ],
   "source": [
    "#Here the separator is space, and the maxsplit argument is set to 3.\n",
    "new_str.split(' ', 3)"
   ]
  },
  {
   "cell_type": "markdown",
   "metadata": {},
   "source": [
    "### __Type And Type Conversion__\n",
    "\n",
    "\n"
   ]
  },
  {
   "cell_type": "code",
   "execution_count": 32,
   "metadata": {},
   "outputs": [
    {
     "data": {
      "text/plain": [
       "str"
      ]
     },
     "execution_count": 32,
     "metadata": {},
     "output_type": "execute_result"
    }
   ],
   "source": [
    "type(my_string)"
   ]
  },
  {
   "cell_type": "code",
   "execution_count": 33,
   "metadata": {},
   "outputs": [
    {
     "data": {
      "text/plain": [
       "float"
      ]
     },
     "execution_count": 33,
     "metadata": {},
     "output_type": "execute_result"
    }
   ],
   "source": [
    "a=101.5\n",
    "type(a)"
   ]
  },
  {
   "cell_type": "code",
   "execution_count": 35,
   "metadata": {},
   "outputs": [
    {
     "name": "stdout",
     "output_type": "stream",
     "text": [
      "101\n",
      "<class 'int'>\n"
     ]
    }
   ],
   "source": [
    "b=int(a)\n",
    "print(b)\n",
    "print(type(b))"
   ]
  },
  {
   "cell_type": "code",
   "execution_count": 48,
   "metadata": {},
   "outputs": [
    {
     "name": "stdout",
     "output_type": "stream",
     "text": [
      "('a is of type', <type 'int'>)\n",
      "('a is of type', <type 'float'>)\n",
      "('a is of type', <type 'str'>)\n",
      "('a is of type', <type 'complex'>)\n"
     ]
    },
    {
     "data": {
      "text/plain": [
       "True"
      ]
     },
     "execution_count": 48,
     "metadata": {},
     "output_type": "execute_result"
    }
   ],
   "source": [
    "a = 5\n",
    "print(\"a is of type\", type(a))\n",
    "\n",
    "a = 4.35\n",
    "print(\"a is of type\", type(a))\n",
    "\n",
    "a = \"Hello\"\n",
    "print(\"a is of type\", type(a))\n",
    "\n",
    "a = 1+2j\n",
    "print(\"a is of type\", type(a))\n",
    "\n",
    "isinstance(\"dcfsd\",str)\n"
   ]
  },
  {
   "cell_type": "markdown",
   "metadata": {},
   "source": [
    "### __Data structures__\n",
    "\n",
    "_Lists_                                                                                                                         \n",
    "_Tuples_                                                                                                                         \n",
    "_Sets_                                                                                                                         \n",
    "_Dictionaries_\n"
   ]
  },
  {
   "cell_type": "markdown",
   "metadata": {},
   "source": [
    "### __Lists__\n",
    "\n",
    "_lists are one of the most common and basic data structures in Python_                                                           \n",
    "_list is created with square brackets_                                                            \n",
    "_Lists can contain any mix and match of the data types you have seen so far_                                                     _Lists are Mutable_      \n",
    "\n"
   ]
  },
  {
   "cell_type": "code",
   "execution_count": 46,
   "metadata": {},
   "outputs": [
    {
     "data": {
      "text/plain": [
       "[1, 3.4, 'a string', True]"
      ]
     },
     "execution_count": 46,
     "metadata": {},
     "output_type": "execute_result"
    }
   ],
   "source": [
    "list_of_random_things = [1, 3.4, 'a string', True]\n",
    "list_of_random_things"
   ]
  },
  {
   "cell_type": "code",
   "execution_count": 47,
   "metadata": {},
   "outputs": [
    {
     "data": {
      "text/plain": [
       "list"
      ]
     },
     "execution_count": 47,
     "metadata": {},
     "output_type": "execute_result"
    }
   ],
   "source": [
    "type(list_of_random_things)"
   ]
  },
  {
   "cell_type": "code",
   "execution_count": 49,
   "metadata": {},
   "outputs": [
    {
     "data": {
      "text/plain": [
       "[3.4]"
      ]
     },
     "execution_count": 49,
     "metadata": {},
     "output_type": "execute_result"
    }
   ],
   "source": [
    "#Slicing in List\n",
    "#When using slicing, it is important to remember that the lower index is inclusive and the upper index is exclusive\n",
    "list_of_random_things[1:2]"
   ]
  },
  {
   "cell_type": "code",
   "execution_count": 50,
   "metadata": {},
   "outputs": [
    {
     "name": "stdout",
     "output_type": "stream",
     "text": [
      "[1, 2, 3, 4, 5]\n",
      "['one', 2, 3, 4, 5]\n"
     ]
    }
   ],
   "source": [
    "#Mutability\n",
    "\n",
    "my_lst = [1, 2, 3, 4, 5]\n",
    "print(my_lst)\n",
    "\n",
    "my_lst[0] = 'one'\n",
    "print(my_lst)\n",
    "\n"
   ]
  },
  {
   "cell_type": "markdown",
   "metadata": {},
   "source": [
    "### __Membership Operators__\n",
    "\n",
    "_in and not in_\n",
    "\n"
   ]
  },
  {
   "cell_type": "code",
   "execution_count": 51,
   "metadata": {},
   "outputs": [
    {
     "data": {
      "text/plain": [
       "['India', 'Pakistan', 'US', 'China', 'Canada']"
      ]
     },
     "execution_count": 51,
     "metadata": {},
     "output_type": "execute_result"
    }
   ],
   "source": [
    "Countries = ['India', 'Pakistan', \"US\",'China','Canada']\n",
    "Countries"
   ]
  },
  {
   "cell_type": "code",
   "execution_count": 53,
   "metadata": {},
   "outputs": [
    {
     "data": {
      "text/plain": [
       "True"
      ]
     },
     "execution_count": 53,
     "metadata": {},
     "output_type": "execute_result"
    }
   ],
   "source": [
    "'India' in Countries"
   ]
  },
  {
   "cell_type": "markdown",
   "metadata": {},
   "source": [
    "### __Functions for Lists__\n",
    "\n",
    "\n"
   ]
  },
  {
   "cell_type": "code",
   "execution_count": 56,
   "metadata": {
    "collapsed": true
   },
   "outputs": [],
   "source": [
    "#Try these functions\n",
    "#len()\n",
    "#max()\n",
    "#min()\n",
    "#sorted()"
   ]
  },
  {
   "cell_type": "markdown",
   "metadata": {},
   "source": [
    "### __List Methods__\n",
    "\n",
    "\n"
   ]
  },
  {
   "cell_type": "code",
   "execution_count": 57,
   "metadata": {},
   "outputs": [
    {
     "name": "stdout",
     "output_type": "stream",
     "text": [
      "fore-aft-starboard-port\n"
     ]
    }
   ],
   "source": [
    "#join method\n",
    "\n",
    "new_str = \"-\".join([\"fore\", \"aft\", \"starboard\", \"port\"])\n",
    "print(new_str)"
   ]
  },
  {
   "cell_type": "code",
   "execution_count": 58,
   "metadata": {},
   "outputs": [
    {
     "name": "stdout",
     "output_type": "stream",
     "text": [
      "['a', 'b', 'c', 'd', 'z']\n"
     ]
    }
   ],
   "source": [
    "#append method\n",
    "\n",
    "letters = ['a', 'b', 'c', 'd']\n",
    "letters.append('z')\n",
    "print(letters)"
   ]
  },
  {
   "cell_type": "markdown",
   "metadata": {},
   "source": [
    "## __Tuples__\n",
    "\n",
    "_Tuple is a data type for immutable ordered sequences of elements_"
   ]
  },
  {
   "cell_type": "code",
   "execution_count": 1,
   "metadata": {},
   "outputs": [
    {
     "name": "stdout",
     "output_type": "stream",
     "text": [
      "Latitude: 13.4125\n",
      "Longitude: 103.866667\n"
     ]
    }
   ],
   "source": [
    "location = (13.4125, 103.866667)\n",
    "print(\"Latitude:\", location[0])\n",
    "print(\"Longitude:\", location[1])"
   ]
  },
  {
   "cell_type": "code",
   "execution_count": 3,
   "metadata": {
    "collapsed": true
   },
   "outputs": [],
   "source": [
    "# 3 variables are assigned from the content of the tuple dimensions. This is called tuple unpacking\n",
    "dimensions = 52, 40, 100\n",
    "length, width, height = dimensions\n",
    "\n",
    "# We can use tuple unpacking to assign the information from a tuple into multiple variables \n",
    "# without having to access them one by one and make multiple assignment statements"
   ]
  },
  {
   "cell_type": "markdown",
   "metadata": {},
   "source": [
    "## __Sets__\n",
    "\n",
    "_A set is a data type for mutable unordered collections of unique elements_                                                     \n",
    "_One application of a set is to quickly remove duplicates from a list_"
   ]
  },
  {
   "cell_type": "code",
   "execution_count": 4,
   "metadata": {},
   "outputs": [
    {
     "name": "stdout",
     "output_type": "stream",
     "text": [
      "{1, 2, 3, 6}\n"
     ]
    }
   ],
   "source": [
    "numbers = [1, 2, 6, 3, 1, 1, 6]\n",
    "unique_nums = set(numbers)\n",
    "print(unique_nums)"
   ]
  },
  {
   "cell_type": "code",
   "execution_count": 5,
   "metadata": {},
   "outputs": [
    {
     "name": "stdout",
     "output_type": "stream",
     "text": [
      "False\n",
      "{'watermelon', 'grapefruit', 'banana', 'orange', 'apple'}\n",
      "watermelon\n",
      "{'grapefruit', 'banana', 'orange', 'apple'}\n"
     ]
    }
   ],
   "source": [
    "fruit = {\"apple\", \"banana\", \"orange\", \"grapefruit\"}  # define a set\n",
    "\n",
    "print(\"watermelon\" in fruit)  # check for element\n",
    "\n",
    "fruit.add(\"watermelon\")  # add an element\n",
    "print(fruit)\n",
    "\n",
    "print(fruit.pop())  # remove a random element\n",
    "print(fruit)"
   ]
  },
  {
   "cell_type": "markdown",
   "metadata": {},
   "source": [
    "_Methods like union, intersection,difference are easy to perform in sets_                                             "
   ]
  },
  {
   "cell_type": "markdown",
   "metadata": {},
   "source": [
    "## __Dictionaries __\n",
    "\n",
    "_A dictionary is a mutable data type that stores mappings of unique keys to values_"
   ]
  },
  {
   "cell_type": "code",
   "execution_count": 9,
   "metadata": {},
   "outputs": [
    {
     "name": "stdout",
     "output_type": "stream",
     "text": [
      "2\n"
     ]
    }
   ],
   "source": [
    "elements = {\"hydrogen\": 1, \"helium\": 2, \"carbon\": 6}\n",
    "print(elements[\"helium\"])  # print the value mapped to \"helium\"\n",
    "elements[\"lithium\"] = 3  # insert \"lithium\" with a value of 3 into the dictionary"
   ]
  },
  {
   "cell_type": "code",
   "execution_count": 11,
   "metadata": {},
   "outputs": [
    {
     "name": "stdout",
     "output_type": "stream",
     "text": [
      "True\n",
      "None\n"
     ]
    }
   ],
   "source": [
    "# Checking the values in Dict \n",
    "print(\"carbon\" in elements) \n",
    "print(elements.get(\"dilithium\"))"
   ]
  },
  {
   "cell_type": "markdown",
   "metadata": {},
   "source": [
    "## Identity Operators\n",
    "### Keyword\tOperator\n",
    "\n",
    "_is\tevaluates if both sides have the same identity_                                                                             \n",
    "_is not\tevaluates if both sides have different identities_"
   ]
  },
  {
   "cell_type": "code",
   "execution_count": 12,
   "metadata": {},
   "outputs": [
    {
     "name": "stdout",
     "output_type": "stream",
     "text": [
      "True\n",
      "False\n"
     ]
    }
   ],
   "source": [
    "n = elements.get(\"dilithium\")\n",
    "print(n is None)\n",
    "print(n is not None)"
   ]
  },
  {
   "cell_type": "markdown",
   "metadata": {},
   "source": [
    "## __Compound Data Structures __\n",
    "\n",
    "_We can include containers in other containers to create compound data structures. _"
   ]
  },
  {
   "cell_type": "code",
   "execution_count": 13,
   "metadata": {
    "collapsed": true
   },
   "outputs": [],
   "source": [
    "elements = {\"hydrogen\": {\"number\": 1,\n",
    "                         \"weight\": 1.00794,\n",
    "                         \"symbol\": \"H\"},\n",
    "              \"helium\": {\"number\": 2,\n",
    "                         \"weight\": 4.002602,\n",
    "                         \"symbol\": \"He\"}}"
   ]
  },
  {
   "cell_type": "code",
   "execution_count": 14,
   "metadata": {
    "collapsed": true
   },
   "outputs": [],
   "source": [
    "helium = elements[\"helium\"]  # get the helium dictionary\n",
    "hydrogen_weight = elements[\"hydrogen\"][\"weight\"]  # get hydrogen's weight"
   ]
  },
  {
   "cell_type": "code",
   "execution_count": 15,
   "metadata": {},
   "outputs": [
    {
     "name": "stdout",
     "output_type": "stream",
     "text": [
      "elements =  {'hydrogen': {'number': 1, 'weight': 1.00794, 'symbol': 'H'}, 'helium': {'number': 2, 'weight': 4.002602, 'symbol': 'He'}, 'oxygen': {'number': 8, 'weight': 15.999, 'symbol': 'O'}}\n"
     ]
    }
   ],
   "source": [
    "oxygen = {\"number\":8,\"weight\":15.999,\"symbol\":\"O\"}  # create a new oxygen dictionary \n",
    "elements[\"oxygen\"] = oxygen  # assign 'oxygen' as a key to the elements dictionary\n",
    "print('elements = ', elements)"
   ]
  },
  {
   "cell_type": "markdown",
   "metadata": {},
   "source": [
    "## Syntax Errors and Exceptions\n",
    "\n",
    "\n",
    "_There are two types of errors to look out for_\n",
    "\n",
    "_Exceptions - Exception is a problem that occurs when the code is running_                                                      \n",
    "_Syntax - Syntax Error is a problem detected when Python checks the code before it runs it_"
   ]
  },
  {
   "cell_type": "code",
   "execution_count": 35,
   "metadata": {},
   "outputs": [
    {
     "ename": "SyntaxError",
     "evalue": "invalid syntax (<ipython-input-35-1c6d0b91777a>, line 2)",
     "output_type": "error",
     "traceback": [
      "\u001b[1;36m  File \u001b[1;32m\"<ipython-input-35-1c6d0b91777a>\"\u001b[1;36m, line \u001b[1;32m2\u001b[0m\n\u001b[1;33m    while True print('Hello world')\u001b[0m\n\u001b[1;37m                   ^\u001b[0m\n\u001b[1;31mSyntaxError\u001b[0m\u001b[1;31m:\u001b[0m invalid syntax\n"
     ]
    }
   ],
   "source": [
    "# syntax error\n",
    "while True print('Hello world')\n"
   ]
  },
  {
   "cell_type": "code",
   "execution_count": 36,
   "metadata": {},
   "outputs": [
    {
     "ename": "ZeroDivisionError",
     "evalue": "division by zero",
     "output_type": "error",
     "traceback": [
      "\u001b[1;31m---------------------------------------------------------------------------\u001b[0m",
      "\u001b[1;31mZeroDivisionError\u001b[0m                         Traceback (most recent call last)",
      "\u001b[1;32m<ipython-input-36-2a0017ebe009>\u001b[0m in \u001b[0;36m<module>\u001b[1;34m()\u001b[0m\n\u001b[0;32m      1\u001b[0m \u001b[1;31m# Exceptions\u001b[0m\u001b[1;33m\u001b[0m\u001b[1;33m\u001b[0m\u001b[0m\n\u001b[1;32m----> 2\u001b[1;33m \u001b[0mprint\u001b[0m\u001b[1;33m(\u001b[0m\u001b[1;36m5\u001b[0m\u001b[1;33m/\u001b[0m\u001b[1;36m0\u001b[0m\u001b[1;33m)\u001b[0m\u001b[1;33m\u001b[0m\u001b[0m\n\u001b[0m",
      "\u001b[1;31mZeroDivisionError\u001b[0m: division by zero"
     ]
    }
   ],
   "source": [
    "# Exceptions\n",
    "print(5/0)"
   ]
  },
  {
   "cell_type": "code",
   "execution_count": 3,
   "metadata": {},
   "outputs": [
    {
     "name": "stdout",
     "output_type": "stream",
     "text": [
      "Handling run-time error: division by zero\n"
     ]
    }
   ],
   "source": [
    "try:\n",
    "    5/0\n",
    "except ZeroDivisionError as err:\n",
    "    print('Handling run-time error:', err)\n",
    "\n"
   ]
  },
  {
   "cell_type": "code",
   "execution_count": 2,
   "metadata": {
    "collapsed": true
   },
   "outputs": [],
   "source": [
    "def test():\n",
    "    a= int(input('Please enter first number: '))\n",
    "    b= int(input('Please enter second number: '))\n",
    "    return a/b"
   ]
  },
  {
   "cell_type": "code",
   "execution_count": 26,
   "metadata": {},
   "outputs": [
    {
     "name": "stdout",
     "output_type": "stream",
     "text": [
      "Please enter first number: 10\n",
      "Please enter second number: 5\n"
     ]
    },
    {
     "data": {
      "text/plain": [
       "2.0"
      ]
     },
     "execution_count": 26,
     "metadata": {},
     "output_type": "execute_result"
    }
   ],
   "source": [
    "test()"
   ]
  },
  {
   "cell_type": "code",
   "execution_count": 3,
   "metadata": {},
   "outputs": [
    {
     "name": "stdout",
     "output_type": "stream",
     "text": [
      "Please enter first number: 10\n",
      "Please enter second number: 0\n",
      "Please enter a non zero number: division by zero\n",
      "Please enter first number: 10\n",
      "Please enter second number: 2\n",
      "5.0\n"
     ]
    }
   ],
   "source": [
    "try:\n",
    "    print(test())\n",
    "    print('Working fine')\n",
    "except ZeroDivisionError as err:\n",
    "    print('Please enter a non zero number:', err)\n",
    "    print(test())\n"
   ]
  }
 ],
 "metadata": {
  "anaconda-cloud": {},
  "kernelspec": {
   "display_name": "Python 3",
   "language": "python",
   "name": "python3"
  },
  "language_info": {
   "codemirror_mode": {
    "name": "ipython",
    "version": 3
   },
   "file_extension": ".py",
   "mimetype": "text/x-python",
   "name": "python",
   "nbconvert_exporter": "python",
   "pygments_lexer": "ipython3",
   "version": "3.6.3"
  }
 },
 "nbformat": 4,
 "nbformat_minor": 1
}
